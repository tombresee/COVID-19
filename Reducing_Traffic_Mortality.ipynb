{
  "nbformat": 4,
  "nbformat_minor": 0,
  "metadata": {
    "kernelspec": {
      "display_name": "Python 3",
      "language": "python",
      "name": "python3"
    },
    "language_info": {
      "codemirror_mode": {
        "name": "ipython",
        "version": 3
      },
      "file_extension": ".py",
      "mimetype": "text/x-python",
      "name": "python",
      "nbconvert_exporter": "python",
      "pygments_lexer": "ipython3",
      "version": "3.7.4"
    },
    "toc": {
      "base_numbering": 1,
      "nav_menu": {},
      "number_sections": true,
      "sideBar": true,
      "skip_h1_title": false,
      "title_cell": "Table of Contents",
      "title_sidebar": "Contents",
      "toc_cell": false,
      "toc_position": {},
      "toc_section_display": true,
      "toc_window_display": false
    },
    "varInspector": {
      "cols": {
        "lenName": 16,
        "lenType": 16,
        "lenVar": 40
      },
      "kernels_config": {
        "python": {
          "delete_cmd_postfix": "",
          "delete_cmd_prefix": "del ",
          "library": "var_list.py",
          "varRefreshCmd": "print(var_dic_list())"
        },
        "r": {
          "delete_cmd_postfix": ") ",
          "delete_cmd_prefix": "rm(",
          "library": "var_list.r",
          "varRefreshCmd": "cat(var_dic_list()) "
        }
      },
      "types_to_exclude": [
        "module",
        "function",
        "builtin_function_or_method",
        "instance",
        "_Feature"
      ],
      "window_display": false
    },
    "colab": {
      "name": "Reducing Traffic Mortality.ipynb",
      "provenance": [],
      "collapsed_sections": [
        "OwoHBq4x1SVx",
        "KluZlqI21SV-",
        "l9tLrgOv1SWI",
        "XUC46_ov1SWN",
        "ARR6StJd1SWR",
        "fbxBPrA51SWX",
        "D_ob6tnO1SWg",
        "Cw1Ut6KP1SWm"
      ],
      "include_colab_link": true
    }
  },
  "cells": [
    {
      "cell_type": "markdown",
      "metadata": {
        "id": "view-in-github",
        "colab_type": "text"
      },
      "source": [
        "<a href=\"https://colab.research.google.com/github/tombresee/COVID-19/blob/master/Reducing_Traffic_Mortality.ipynb\" target=\"_parent\"><img src=\"https://colab.research.google.com/assets/colab-badge.svg\" alt=\"Open In Colab\"/></a>"
      ]
    },
    {
      "cell_type": "markdown",
      "metadata": {
        "id": "5npCfxuO1SVY"
      },
      "source": [
        "<a href=\"https://colab.research.google.com/github/ML-Challenge/week4-unsupervised-learning/blob/master/Ex2.Reducing%20Traffic%20Mortality%20in%20the%20USA%20-%20Solution.ipynb\" target=\"_parent\"><img src=\"https://colab.research.google.com/assets/colab-badge.svg\" /></a>"
      ]
    },
    {
      "cell_type": "markdown",
      "metadata": {
        "heading_collapsed": true,
        "id": "Se4TGDfw1SVZ"
      },
      "source": [
        "## Setup"
      ]
    },
    {
      "cell_type": "code",
      "metadata": {
        "ExecuteTime": {
          "end_time": "2020-02-15T08:26:33.163118Z",
          "start_time": "2020-02-15T08:26:33.150125Z"
        },
        "hidden": true,
        "id": "dEVuPrGO1SVZ",
        "outputId": "104efb73-dee2-46e2-fd17-2170a1ad49a7",
        "colab": {
          "base_uri": "https://localhost:8080/",
          "height": 655
        }
      },
      "source": [
        "# Download lesson datasets\n",
        "# Required if you're using Google Colab\n",
        "!wget \"https://github.com/ML-Challenge/week4-unsupervised-learning/raw/master/datasets.zip\"\n",
        "!unzip -o datasets.zip"
      ],
      "execution_count": 16,
      "outputs": [
        {
          "output_type": "stream",
          "text": [
            "--2020-09-27 00:11:11--  https://github.com/ML-Challenge/week4-unsupervised-learning/raw/master/datasets.zip\n",
            "Resolving github.com (github.com)... 140.82.114.3\n",
            "Connecting to github.com (github.com)|140.82.114.3|:443... connected.\n",
            "HTTP request sent, awaiting response... 302 Found\n",
            "Location: https://raw.githubusercontent.com/ML-Challenge/week4-unsupervised-learning/master/datasets.zip [following]\n",
            "--2020-09-27 00:11:11--  https://raw.githubusercontent.com/ML-Challenge/week4-unsupervised-learning/master/datasets.zip\n",
            "Resolving raw.githubusercontent.com (raw.githubusercontent.com)... 151.101.0.133, 151.101.64.133, 151.101.128.133, ...\n",
            "Connecting to raw.githubusercontent.com (raw.githubusercontent.com)|151.101.0.133|:443... connected.\n",
            "HTTP request sent, awaiting response... 200 OK\n",
            "Length: 2227561 (2.1M) [application/zip]\n",
            "Saving to: ‘datasets.zip.1’\n",
            "\n",
            "datasets.zip.1      100%[===================>]   2.12M  --.-KB/s    in 0.1s    \n",
            "\n",
            "2020-09-27 00:11:11 (14.2 MB/s) - ‘datasets.zip.1’ saved [2227561/2227561]\n",
            "\n",
            "Archive:  datasets.zip\n",
            "  inflating: utils.py                \n",
            "  inflating: data/miles-driven.csv   \n",
            "  inflating: data/fish.csv           \n",
            "  inflating: data/company-stock-movements-2010-2015-incl.csv  \n",
            "  inflating: data/eurovision-2016.csv  \n",
            "  inflating: data/wine.csv           \n",
            "  inflating: data/Grains/seeds.csv   \n",
            "  inflating: data/Grains/seeds-width-vs-length.csv  \n",
            "  inflating: data/fma-rock-vs-hiphop.csv  \n",
            "  inflating: data/road-accidents.csv  \n",
            "  inflating: data/echonest-metrics.json  \n",
            "  inflating: data/Musical artists/scrobbler-small-sample.csv  \n",
            "  inflating: data/Musical artists/artists.csv  \n",
            "  inflating: data/Wikipedia articles/preprocessing.md  \n",
            "  inflating: data/Wikipedia articles/wikipedia-vectors.csv  \n",
            "  inflating: data/Wikipedia articles/wikipedia-vocabulary-utf8.txt  \n",
            "  inflating: data/lcd-digits.csv     \n"
          ],
          "name": "stdout"
        }
      ]
    },
    {
      "cell_type": "markdown",
      "metadata": {
        "id": "gSwu8djh1SVd"
      },
      "source": [
        "## Project Description"
      ]
    },
    {
      "cell_type": "markdown",
      "metadata": {
        "id": "FlKOKtsE1SVd"
      },
      "source": [
        "While the rate of fatal road accidents has been decreasing steadily since the 80s, the past ten years have seen a stagnation in this reduction. Coupled with the increase in number of miles driven in the nation, the total number of traffic related-fatalities has now reached a ten year high and is rapidly increasing."
      ]
    },
    {
      "cell_type": "markdown",
      "metadata": {
        "id": "e42AkZbl1SVe"
      },
      "source": [
        "By looking at the demographics of traffic accident victims for each US state, we find that there is a lot of variation between states. Now we want to understand if there are patterns in this variation in order to derive suggestions for a policy action plan. In particular, instead of implementing a costly nation-wide plan we want to focus on groups of states with similar profiles. How can we find such groups in a statistically sound way and communicate the result effectively?"
      ]
    },
    {
      "cell_type": "markdown",
      "metadata": {
        "id": "1LD1gHox1SVe"
      },
      "source": [
        "## The raw data files and their format"
      ]
    },
    {
      "cell_type": "markdown",
      "metadata": {
        "dc": {
          "key": "3"
        },
        "tags": [
          "context"
        ],
        "id": "558uPCvI1SVf"
      },
      "source": [
        "\n",
        "<p>While the rate of fatal road accidents has been decreasing steadily since the 80s, the past ten years have seen a stagnation in this reduction. Coupled with the increase in number of miles driven in the nation, the total number of traffic related-fatalities has now reached a ten year high and is rapidly increasing.</p>\n",
        "<p>Per request of the US Department of Transportation, we are currently investigating how to derive a strategy to reduce the incidence of road accidents across the nation. By looking at the demographics of traﬃc accident victims for each US state, we find that there is a lot of variation between states. Now we want to understand if there are patterns in this variation in order to derive suggestions for a policy action plan. In particular, instead of implementing a costly nation-wide plan we want to focus on groups of  states with similar profiles. How can we find such groups in a statistically sound way and communicate the result effectively?</p>\n",
        "<p>To accomplish these tasks, we will make use of data wrangling, plotting, dimensionality reduction, and unsupervised clustering.</p>\n",
        "<p>The data given to us was originally collected by the National Highway Traffic Safety Administration and the National Association of Insurance Commissioners. This particular dataset was compiled and released as a <a href=\"https://github.com/fivethirtyeight/data/tree/master/bad-drivers\">CSV-file</a> by FiveThirtyEight under the <a href=\"https://github.com/ﬁvethirtyeight/data\">CC-BY4.0 license</a>.</p>"
      ]
    },
    {
      "cell_type": "markdown",
      "metadata": {
        "id": "Z8Pc1OZB1SVf"
      },
      "source": [
        "### Task 1: Instructions"
      ]
    },
    {
      "cell_type": "markdown",
      "metadata": {
        "id": "M4X1gWWh1SVg"
      },
      "source": [
        "Explore your current folder and view the main dataset file:\n",
        "\n",
        "* Check the name of the current folder.\n",
        "* List all files in this folder.\n",
        "* List all files in the `data\\` folder.\n",
        "* View the first 20 lines of `road-accidents.csv` in the data\\ folder.\n",
        "\n",
        "Helpful links:\n",
        "* [How to run shell commands in a Jupyter Notebook](https://jakevdp.github.io/PythonDataScienceHandbook/01.05-ipython-and-shell-commands.html) (through the underlying IPython interpreter)\n",
        "* For viewing the first few lines of a file using shell commands, see [this](https://kb.iu.edu/d/acri)"
      ]
    },
    {
      "cell_type": "code",
      "metadata": {
        "ExecuteTime": {
          "end_time": "2020-02-20T16:15:13.597750Z",
          "start_time": "2020-02-20T16:15:13.306785Z"
        },
        "id": "1IA3c0hN1SVg",
        "outputId": "34a8d2b8-dc3d-4afe-ac0d-70bbe4c0c120",
        "colab": {
          "base_uri": "https://localhost:8080/",
          "height": 455
        }
      },
      "source": [
        "# Check the name of the current folder\n",
        "current_dir = !pwd\n",
        "print(current_dir)\n",
        "\n",
        "# List all files in this folder\n",
        "file_list = !ls\n",
        "print(file_list)\n",
        "\n",
        "# List all files in the data directory\n",
        "dataset_list = !ls data\n",
        "print(dataset_list)\n",
        "\n",
        "# View the first 20 lines of data/road-accidents.csv\n",
        "accidents_head = !head -n 20 data/road-accidents.csv\n",
        "accidents_head"
      ],
      "execution_count": 17,
      "outputs": [
        {
          "output_type": "stream",
          "text": [
            "['/content']\n",
            "['data  datasets.zip  datasets.zip.1  sample_data  utils.py']\n",
            "[' company-stock-movements-2010-2015-incl.csv   lcd-digits.csv', ' echonest-metrics.json\\t\\t\\t      miles-driven.csv', \" eurovision-2016.csv\\t\\t\\t     'Musical artists'\", ' fish.csv\\t\\t\\t\\t      road-accidents.csv', \" fma-rock-vs-hiphop.csv\\t\\t\\t     'Wikipedia articles'\", ' Grains\\t\\t\\t\\t\\t      wine.csv']\n"
          ],
          "name": "stdout"
        },
        {
          "output_type": "execute_result",
          "data": {
            "text/plain": [
              "['##### LICENSE #####',\n",
              " '# This data set is modified from the original at fivethirtyeight (https://github.com/fivethirtyeight/data/tree/master/bad-drivers)',\n",
              " '# and it is released under CC BY 4.0 (https://creativecommons.org/licenses/by/4.0/)',\n",
              " '##### COLUMN ABBREVIATIONS #####',\n",
              " '# drvr_fatl_col_bmiles = Number of drivers involved in fatal collisions per billion miles (2011)',\n",
              " '# perc_fatl_speed = Percentage Of Drivers Involved In Fatal Collisions Who Were Speeding (2009)',\n",
              " '# perc_fatl_alcohol = Percentage Of Drivers Involved In Fatal Collisions Who Were Alcohol-Impaired (2011)',\n",
              " '# perc_fatl_1st_time = Percentage Of Drivers Involved In Fatal Collisions Who Had Not Been Involved In Any Previous Accidents (2011)',\n",
              " '##### DATA BEGIN #####',\n",
              " 'state|drvr_fatl_col_bmiles|perc_fatl_speed|perc_fatl_alcohol|perc_fatl_1st_time',\n",
              " 'Alabama|18.8|39|30|80',\n",
              " 'Alaska|18.1|41|25|94',\n",
              " 'Arizona|18.6|35|28|96',\n",
              " 'Arkansas|22.4|18|26|95',\n",
              " 'California|12|35|28|89',\n",
              " 'Colorado|13.6|37|28|95',\n",
              " 'Connecticut|10.8|46|36|82',\n",
              " 'Delaware|16.2|38|30|99',\n",
              " 'District of Columbia|5.9|34|27|100',\n",
              " 'Florida|17.9|21|29|94']"
            ]
          },
          "metadata": {
            "tags": []
          },
          "execution_count": 17
        }
      ]
    },
    {
      "cell_type": "markdown",
      "metadata": {
        "id": "EP7IhFCC1SVm"
      },
      "source": [
        "## Read in and get an overview of the data"
      ]
    },
    {
      "cell_type": "markdown",
      "metadata": {
        "dc": {
          "key": "10"
        },
        "tags": [
          "context"
        ],
        "id": "BiqghbNF1SVn"
      },
      "source": [
        "<p>Next, we will orient ourselves to get to know the data with which we are dealing.</p>"
      ]
    },
    {
      "cell_type": "markdown",
      "metadata": {
        "id": "rU3B5LFJ1SVn"
      },
      "source": [
        "### Task 2: Instructions"
      ]
    },
    {
      "cell_type": "markdown",
      "metadata": {
        "id": "1d-SD9Nx1SVo"
      },
      "source": [
        "Read in the main dataset file and start exploring the data.\n",
        "\n",
        "* Read in `road-accidents.csv` (which is in the data/ folder) using read_csv() from pandas. Set the `comment` and `sep` parameters based on the output from task 1.\n",
        "* Save the number of rows columns as a tuple.\n",
        "* Generate an overview of the DataFrame."
      ]
    },
    {
      "cell_type": "code",
      "metadata": {
        "ExecuteTime": {
          "end_time": "2020-02-20T16:15:13.882326Z",
          "start_time": "2020-02-20T16:15:13.599744Z"
        },
        "id": "0h8WkuZY1SVq",
        "outputId": "b871bad8-e861-47d8-bf2d-867ee240857f",
        "colab": {
          "base_uri": "https://localhost:8080/",
          "height": 471
        }
      },
      "source": [
        "# Import the `pandas` module as \"pd\"\n",
        "# ... YOUR CODE FOR TASK 2 ...\n",
        "import pandas as pd\n",
        "\n",
        "# Read in `road-accidents.csv`\n",
        "car_acc = pd.read_csv('data/road-accidents.csv',comment='#',sep='|')\n",
        "\n",
        "# Save the number of rows columns as a tuple\n",
        "rows_and_cols = car_acc.shape\n",
        "print('There are {} rows and {} columns.\\n'.format(\n",
        "    rows_and_cols[0], rows_and_cols[1]))\n",
        "\n",
        "# Generate an overview of the DataFrame\n",
        "car_acc_information = car_acc.info()\n",
        "print(car_acc_information)\n",
        "\n",
        "# Display the last five rows of the DataFrame\n",
        "car_acc.tail()"
      ],
      "execution_count": 18,
      "outputs": [
        {
          "output_type": "stream",
          "text": [
            "There are 51 rows and 5 columns.\n",
            "\n",
            "<class 'pandas.core.frame.DataFrame'>\n",
            "RangeIndex: 51 entries, 0 to 50\n",
            "Data columns (total 5 columns):\n",
            " #   Column                Non-Null Count  Dtype  \n",
            "---  ------                --------------  -----  \n",
            " 0   state                 51 non-null     object \n",
            " 1   drvr_fatl_col_bmiles  51 non-null     float64\n",
            " 2   perc_fatl_speed       51 non-null     int64  \n",
            " 3   perc_fatl_alcohol     51 non-null     int64  \n",
            " 4   perc_fatl_1st_time    51 non-null     int64  \n",
            "dtypes: float64(1), int64(3), object(1)\n",
            "memory usage: 2.1+ KB\n",
            "None\n"
          ],
          "name": "stdout"
        },
        {
          "output_type": "execute_result",
          "data": {
            "text/html": [
              "<div>\n",
              "<style scoped>\n",
              "    .dataframe tbody tr th:only-of-type {\n",
              "        vertical-align: middle;\n",
              "    }\n",
              "\n",
              "    .dataframe tbody tr th {\n",
              "        vertical-align: top;\n",
              "    }\n",
              "\n",
              "    .dataframe thead th {\n",
              "        text-align: right;\n",
              "    }\n",
              "</style>\n",
              "<table border=\"1\" class=\"dataframe\">\n",
              "  <thead>\n",
              "    <tr style=\"text-align: right;\">\n",
              "      <th></th>\n",
              "      <th>state</th>\n",
              "      <th>drvr_fatl_col_bmiles</th>\n",
              "      <th>perc_fatl_speed</th>\n",
              "      <th>perc_fatl_alcohol</th>\n",
              "      <th>perc_fatl_1st_time</th>\n",
              "    </tr>\n",
              "  </thead>\n",
              "  <tbody>\n",
              "    <tr>\n",
              "      <th>46</th>\n",
              "      <td>Virginia</td>\n",
              "      <td>12.7</td>\n",
              "      <td>19</td>\n",
              "      <td>27</td>\n",
              "      <td>88</td>\n",
              "    </tr>\n",
              "    <tr>\n",
              "      <th>47</th>\n",
              "      <td>Washington</td>\n",
              "      <td>10.6</td>\n",
              "      <td>42</td>\n",
              "      <td>33</td>\n",
              "      <td>86</td>\n",
              "    </tr>\n",
              "    <tr>\n",
              "      <th>48</th>\n",
              "      <td>West Virginia</td>\n",
              "      <td>23.8</td>\n",
              "      <td>34</td>\n",
              "      <td>28</td>\n",
              "      <td>87</td>\n",
              "    </tr>\n",
              "    <tr>\n",
              "      <th>49</th>\n",
              "      <td>Wisconsin</td>\n",
              "      <td>13.8</td>\n",
              "      <td>36</td>\n",
              "      <td>33</td>\n",
              "      <td>84</td>\n",
              "    </tr>\n",
              "    <tr>\n",
              "      <th>50</th>\n",
              "      <td>Wyoming</td>\n",
              "      <td>17.4</td>\n",
              "      <td>42</td>\n",
              "      <td>32</td>\n",
              "      <td>90</td>\n",
              "    </tr>\n",
              "  </tbody>\n",
              "</table>\n",
              "</div>"
            ],
            "text/plain": [
              "            state  drvr_fatl_col_bmiles  ...  perc_fatl_alcohol  perc_fatl_1st_time\n",
              "46       Virginia                  12.7  ...                 27                  88\n",
              "47     Washington                  10.6  ...                 33                  86\n",
              "48  West Virginia                  23.8  ...                 28                  87\n",
              "49      Wisconsin                  13.8  ...                 33                  84\n",
              "50        Wyoming                  17.4  ...                 32                  90\n",
              "\n",
              "[5 rows x 5 columns]"
            ]
          },
          "metadata": {
            "tags": []
          },
          "execution_count": 18
        }
      ]
    },
    {
      "cell_type": "markdown",
      "metadata": {
        "id": "gIEzElMk1SVv"
      },
      "source": [
        "## Create a textual and a graphical summary of the data"
      ]
    },
    {
      "cell_type": "markdown",
      "metadata": {
        "dc": {
          "key": "17"
        },
        "tags": [
          "context"
        ],
        "id": "urkE9nKl1SVw"
      },
      "source": [
        "<p>We now have an idea of what the dataset looks like. To further familiarize ourselves with this data, we will calculate summary statistics and produce a graphical overview of the data. The graphical overview is good to get a sense for the distribution of variables within the data and could consist of one histogram per column. It is often a good idea to also explore the pairwise relationship between all columns in the data set by using a using pairwise scatter plots (sometimes referred to as a \"scatterplot matrix\").</p>"
      ]
    },
    {
      "cell_type": "markdown",
      "metadata": {
        "id": "OwoHBq4x1SVx"
      },
      "source": [
        "### Task 3: Instructions"
      ]
    },
    {
      "cell_type": "markdown",
      "metadata": {
        "id": "9pmG10M71SVy"
      },
      "source": [
        "Create a textual and graphical overview of the data.\n",
        "\n",
        "* Compute the summary statistics of all columns in the `car_acc` DataFrame.\n",
        "* Create a pairwise scatter plot to explore the data, using `sns.pairplot()`."
      ]
    },
    {
      "cell_type": "code",
      "metadata": {
        "ExecuteTime": {
          "end_time": "2020-02-20T16:15:17.144109Z",
          "start_time": "2020-02-20T16:15:13.885289Z"
        },
        "id": "T7Eg5-ok1SV0",
        "outputId": "2c70e1f3-5fd0-482d-f80a-a4383421c3ac",
        "colab": {
          "base_uri": "https://localhost:8080/",
          "height": 965
        }
      },
      "source": [
        "# import seaborn and make plots appear inline\n",
        "import seaborn as sns\n",
        "%matplotlib inline\n",
        "\n",
        "# Compute the summary statistics of all columns in the `car_acc` DataFrame\n",
        "sum_stat_car = car_acc.describe()\n",
        "print(sum_stat_car)\n",
        "\n",
        "# Create a pairwise scatter plot to explore the data\n",
        "sns.pairplot(car_acc)\n"
      ],
      "execution_count": 19,
      "outputs": [
        {
          "output_type": "stream",
          "text": [
            "       drvr_fatl_col_bmiles  ...  perc_fatl_1st_time\n",
            "count             51.000000  ...            51.00000\n",
            "mean              15.790196  ...            88.72549\n",
            "std                4.122002  ...             6.96011\n",
            "min                5.900000  ...            76.00000\n",
            "25%               12.750000  ...            83.50000\n",
            "50%               15.600000  ...            88.00000\n",
            "75%               18.500000  ...            95.00000\n",
            "max               23.900000  ...           100.00000\n",
            "\n",
            "[8 rows x 4 columns]\n"
          ],
          "name": "stdout"
        },
        {
          "output_type": "execute_result",
          "data": {
            "text/plain": [
              "<seaborn.axisgrid.PairGrid at 0x7fc883693c88>"
            ]
          },
          "metadata": {
            "tags": []
          },
          "execution_count": 19
        },
        {
          "output_type": "display_data",
          "data": {
            "image/png": "[encoded data removed]",
            "text/plain": [
              "<Figure size 720x720 with 20 Axes>"
            ]
          },
          "metadata": {
            "tags": [],
            "needs_background": "light"
          }
        }
      ]
    },
    {
      "cell_type": "markdown",
      "metadata": {
        "id": "ttKKk0yl1SV8"
      },
      "source": [
        "## Quantify the association of features and accidents"
      ]
    },
    {
      "cell_type": "markdown",
      "metadata": {
        "dc": {
          "key": "24"
        },
        "tags": [
          "context"
        ],
        "id": "nIb51VBu1SV9"
      },
      "source": [
        "<p>We can already see some potentially interesting relationships between the target variable (the number of fatal accidents) and the feature variables (the remaining three columns).</p>\n",
        "<p>To quantify the pairwise relationships that we observed in the scatter plots, we can compute the Pearson correlation coefficient matrix. The Pearson correlation coefficient is one of the most common methods to quantify correlation between variables, and by convention, the following thresholds are usually used:</p>\n",
        "<ul>\n",
        "<li>0.2 = weak</li>\n",
        "<li>0.5 = medium</li>\n",
        "<li>0.8 = strong</li>\n",
        "<li>0.9 = very strong</li>\n",
        "</ul>"
      ]
    },
    {
      "cell_type": "markdown",
      "metadata": {
        "id": "KluZlqI21SV-"
      },
      "source": [
        "### Task 4: Instructions"
      ]
    },
    {
      "cell_type": "markdown",
      "metadata": {
        "id": "R7O4d3ss1SV_"
      },
      "source": [
        "Explore the correlation between all column pairs in the DataFrame.\n",
        "\n",
        "* Compute the correlation coefficient for all column pairs in car_acc."
      ]
    },
    {
      "cell_type": "code",
      "metadata": {
        "ExecuteTime": {
          "end_time": "2020-02-20T16:15:17.160031Z",
          "start_time": "2020-02-20T16:15:17.148062Z"
        },
        "id": "xna7j1_D1SWA",
        "outputId": "00adfcc0-9c81-4631-bec8-087a244e24c5",
        "colab": {
          "base_uri": "https://localhost:8080/",
          "height": 168
        }
      },
      "source": [
        "# Compute the correlation coefficent for all column pairs\n",
        "corr_columns = car_acc.corr()\n",
        "corr_columns"
      ],
      "execution_count": 20,
      "outputs": [
        {
          "output_type": "execute_result",
          "data": {
            "text/html": [
              "<div>\n",
              "<style scoped>\n",
              "    .dataframe tbody tr th:only-of-type {\n",
              "        vertical-align: middle;\n",
              "    }\n",
              "\n",
              "    .dataframe tbody tr th {\n",
              "        vertical-align: top;\n",
              "    }\n",
              "\n",
              "    .dataframe thead th {\n",
              "        text-align: right;\n",
              "    }\n",
              "</style>\n",
              "<table border=\"1\" class=\"dataframe\">\n",
              "  <thead>\n",
              "    <tr style=\"text-align: right;\">\n",
              "      <th></th>\n",
              "      <th>drvr_fatl_col_bmiles</th>\n",
              "      <th>perc_fatl_speed</th>\n",
              "      <th>perc_fatl_alcohol</th>\n",
              "      <th>perc_fatl_1st_time</th>\n",
              "    </tr>\n",
              "  </thead>\n",
              "  <tbody>\n",
              "    <tr>\n",
              "      <th>drvr_fatl_col_bmiles</th>\n",
              "      <td>1.000000</td>\n",
              "      <td>-0.029080</td>\n",
              "      <td>0.199426</td>\n",
              "      <td>-0.017942</td>\n",
              "    </tr>\n",
              "    <tr>\n",
              "      <th>perc_fatl_speed</th>\n",
              "      <td>-0.029080</td>\n",
              "      <td>1.000000</td>\n",
              "      <td>0.286244</td>\n",
              "      <td>0.014066</td>\n",
              "    </tr>\n",
              "    <tr>\n",
              "      <th>perc_fatl_alcohol</th>\n",
              "      <td>0.199426</td>\n",
              "      <td>0.286244</td>\n",
              "      <td>1.000000</td>\n",
              "      <td>-0.245455</td>\n",
              "    </tr>\n",
              "    <tr>\n",
              "      <th>perc_fatl_1st_time</th>\n",
              "      <td>-0.017942</td>\n",
              "      <td>0.014066</td>\n",
              "      <td>-0.245455</td>\n",
              "      <td>1.000000</td>\n",
              "    </tr>\n",
              "  </tbody>\n",
              "</table>\n",
              "</div>"
            ],
            "text/plain": [
              "                      drvr_fatl_col_bmiles  ...  perc_fatl_1st_time\n",
              "drvr_fatl_col_bmiles              1.000000  ...           -0.017942\n",
              "perc_fatl_speed                  -0.029080  ...            0.014066\n",
              "perc_fatl_alcohol                 0.199426  ...           -0.245455\n",
              "perc_fatl_1st_time               -0.017942  ...            1.000000\n",
              "\n",
              "[4 rows x 4 columns]"
            ]
          },
          "metadata": {
            "tags": []
          },
          "execution_count": 20
        }
      ]
    },
    {
      "cell_type": "markdown",
      "metadata": {
        "id": "5X05yID71SWG"
      },
      "source": [
        "## Fit a multivariate linear regression"
      ]
    },
    {
      "cell_type": "markdown",
      "metadata": {
        "dc": {
          "key": "31"
        },
        "tags": [
          "context"
        ],
        "id": "pyWGFJHi1SWH"
      },
      "source": [
        "<p>From the correlation table, we see that the amount of fatal accidents is most strongly correlated with alcohol consumption (first row). But in addition, we also see that some of the features are correlated with each other, for instance, speeding and alcohol consumption are positively correlated. We, therefore, want to compute the association of the target with each feature while adjusting for the effect of the remaining features. This can be done using multivariate linear regression.</p>\n",
        "<p>Both the multivariate regression and the correlation measure how strongly the features are associated with the outcome (fatal accidents). When comparing the regression coefficients with the correlation coefficients, we will see that they are slightly different. The reason for this is that the multiple regression computes the association of a feature with an outcome, given the association with all other features, which is not accounted for when calculating the correlation coefficients.</p>\n",
        "<p>A particularly interesting case is when the correlation coefficient and the regression coefficient of the same feature have opposite signs. How can this be? For example, when a feature A is positively correlated with the outcome Y but also positively correlated with a different feature B that has a negative effect on Y, then the indirect correlation (A-&gt;B-&gt;Y) can overwhelm the direct correlation (A-&gt;Y). In such a case, the regression coefficient of feature A could be positive, while the correlation coefficient is negative. This is sometimes called a <em>masking</em> relationship. Let’s see if the multivariate regression can reveal such a phenomenon.</p>"
      ]
    },
    {
      "cell_type": "markdown",
      "metadata": {
        "id": "l9tLrgOv1SWI"
      },
      "source": [
        "### Task 5: Instructions"
      ]
    },
    {
      "cell_type": "markdown",
      "metadata": {
        "id": "ItL0p9Kl1SWJ"
      },
      "source": [
        "Fit a multivariate linear regression model using the fatal accident rate as the outcome.\n",
        "\n",
        "* Import the `linear_model` function from sklearn.\n",
        "* Create the features and target DataFrames, by subsetting the DataFrame `car_acc`.\n",
        "* Create a linear regression object.\n",
        "* Fit a multivariate linear regression model.\n",
        "* Retrieve the regression coefficients from the fitted regression object."
      ]
    },
    {
      "cell_type": "code",
      "metadata": {
        "ExecuteTime": {
          "end_time": "2020-02-20T16:15:17.299255Z",
          "start_time": "2020-02-20T16:15:17.163024Z"
        },
        "id": "vOEBEono1SWJ",
        "outputId": "09af9179-51b4-4f4c-dd7c-8ab2486893d8",
        "colab": {
          "base_uri": "https://localhost:8080/",
          "height": 35
        }
      },
      "source": [
        "# Import the linear model function from sklearn\n",
        "from sklearn import linear_model\n",
        "\n",
        "# Create the features and target DataFrames\n",
        "features = car_acc[[\"perc_fatl_speed\",\"perc_fatl_alcohol\",\"perc_fatl_1st_time\"]]\n",
        "target = car_acc[\"drvr_fatl_col_bmiles\"]\n",
        "\n",
        "# Create a linear regression object\n",
        "reg = linear_model.LinearRegression()\n",
        "\n",
        "# Fit a multivariate linear regression model\n",
        "# ... YOUR CODE FOR TASK 5 ...\n",
        "reg.fit(features,target)\n",
        "\n",
        "# Retrieve the regression coefficients\n",
        "fit_coef = reg.coef_\n",
        "fit_coef"
      ],
      "execution_count": 21,
      "outputs": [
        {
          "output_type": "execute_result",
          "data": {
            "text/plain": [
              "array([-0.04180041,  0.19086404,  0.02473301])"
            ]
          },
          "metadata": {
            "tags": []
          },
          "execution_count": 21
        }
      ]
    },
    {
      "cell_type": "markdown",
      "metadata": {
        "id": "IsB93aF31SWL"
      },
      "source": [
        "## Perform PCA on standardized data"
      ]
    },
    {
      "cell_type": "markdown",
      "metadata": {
        "dc": {
          "key": "38"
        },
        "tags": [
          "context"
        ],
        "id": "nYaHuX6M1SWN"
      },
      "source": [
        "<p>We have learned that alcohol consumption is weakly associated with the number of fatal accidents across states. This could lead us to conclude that alcohol consumption should be a focus for further investigations and maybe strategies should divide states into high versus low alcohol consumption in accidents. But there are also associations between  alcohol consumptions and the other two features, so it might be worth trying to split the states in a way that accounts for all three features.</p>\n",
        "<p>One way of clustering the data is to use PCA to visualize data in reduced dimensional space where we can try to pick up patterns by eye. PCA uses the absolute variance to calculate the overall variance explained for each principal component, so it is important that the features are on a similar scale (unless we would have a particular reason that one feature should be weighted more).</p>\n",
        "<p>We'll use the appropriate scaling function to standardize the features to be centered with mean 0 and scaled with standard deviation 1.</p>"
      ]
    },
    {
      "cell_type": "markdown",
      "metadata": {
        "id": "XUC46_ov1SWN"
      },
      "source": [
        "### Task 6: Instructions"
      ]
    },
    {
      "cell_type": "markdown",
      "metadata": {
        "id": "hpvlYhVC1SWO"
      },
      "source": [
        "Perform a principal component analysis on the standardized data.\n",
        "\n",
        "* Standardize and center the feature columns, using the `StandardScaler`\n",
        "* Import the PCA class.\n",
        "* Fit the standardized data to the PCA class.\n",
        "* Compute the cumulative proportion of variance explained by the first two principal components, either by adding them together or by using the cumulative summation method (`cumsum`) of the explained variance array."
      ]
    },
    {
      "cell_type": "code",
      "metadata": {
        "ExecuteTime": {
          "end_time": "2020-02-20T16:15:17.423560Z",
          "start_time": "2020-02-20T16:15:17.301249Z"
        },
        "id": "5gbKeJGF1SWO",
        "outputId": "72806cc7-38fb-43ea-ef68-ebfbd613c5ce",
        "colab": {
          "base_uri": "https://localhost:8080/",
          "height": 297
        }
      },
      "source": [
        "# Standardize and center the feature columns\n",
        "from sklearn.preprocessing import StandardScaler\n",
        "scaler = StandardScaler()\n",
        "features_scaled = scaler.fit_transform(features)\n",
        "\n",
        "# Import the PCA class function from sklearn\n",
        "# ... YOUR CODE FOR TASK 6 ...\n",
        "\n",
        "from sklearn.decomposition import PCA\n",
        "pca = PCA()\n",
        "\n",
        "# Fit the standardized data to the pca\n",
        "# ... YOUR CODE FOR TASK 6 ...\n",
        "\n",
        "pca.fit(features_scaled)\n",
        "\n",
        "# Plot the proportion of variance explained on the y-axis of the bar plot\n",
        "import matplotlib.pyplot as plt\n",
        "plt.bar(range(1, pca.n_components_ + 1),  pca.explained_variance_ratio_)\n",
        "plt.xlabel('Principal component #')\n",
        "plt.ylabel('Proportion of variance explained')\n",
        "plt.xticks([1, 2, 3])\n",
        "\n",
        "# Compute the cumulative proportion of variance explained by the first two principal components\n",
        "two_first_comp_var_exp = pca.explained_variance_ratio_.cumsum()[1]\n",
        "print(\"The cumulative variance of the first two principal components is {}\".format(\n",
        "    round(two_first_comp_var_exp, 5)))"
      ],
      "execution_count": 22,
      "outputs": [
        {
          "output_type": "stream",
          "text": [
            "The cumulative variance of the first two principal components is 0.7947\n"
          ],
          "name": "stdout"
        },
        {
          "output_type": "display_data",
          "data": {
            "image/png": "[encoded data removed]",
            "text/plain": [
              "<Figure size 432x288 with 1 Axes>"
            ]
          },
          "metadata": {
            "tags": [],
            "needs_background": "light"
          }
        }
      ]
    },
    {
      "cell_type": "markdown",
      "metadata": {
        "id": "uZeUsPoX1SWR"
      },
      "source": [
        "## Visualize the first two principal components"
      ]
    },
    {
      "cell_type": "markdown",
      "metadata": {
        "dc": {
          "key": "45"
        },
        "tags": [
          "context"
        ],
        "id": "f1lgEShf1SWR"
      },
      "source": [
        "<p>The first two principal components enable visualization of the data in two dimensions while capturing a high proportion of the variation (79%) from all three features: speeding, alcohol influence, and first-time accidents. This enables us to use our eyes to try to discern patterns in the data with the goal to find groups of similar states. Although clustering algorithms are becoming increasingly efficient, human pattern recognition is an easily accessible and very efficient method of assessing patterns in data.</p>\n",
        "<p>We will create a scatter plot of the first principle components and explore how the states cluster together in this visualization.</p>"
      ]
    },
    {
      "cell_type": "markdown",
      "metadata": {
        "id": "ARR6StJd1SWR"
      },
      "source": [
        "### Task 7: Instructions"
      ]
    },
    {
      "cell_type": "markdown",
      "metadata": {
        "id": "Pyy2jvoJ1SWS"
      },
      "source": [
        "Transform the data and visualize the first two principal components in a scatter plot.\n",
        "\n",
        "* Create a PCA object with two components. Assign the result to the variable, pca.\n",
        "* Transform the scaled features using two principal components.\n",
        "* Extract the first and second component to use for the scatter plot. Assign the results to p_comp1 and p_comp2, respectively.\n",
        "* Plot the first two principal components in a scatter plot."
      ]
    },
    {
      "cell_type": "code",
      "metadata": {
        "ExecuteTime": {
          "end_time": "2020-02-20T16:15:17.548236Z",
          "start_time": "2020-02-20T16:15:17.426552Z"
        },
        "id": "Gs9A7P9t1SWS",
        "outputId": "17ef4533-03c6-4f75-b9d5-f989008f8584",
        "colab": {
          "base_uri": "https://localhost:8080/",
          "height": 265
        }
      },
      "source": [
        "# Transform the scaled features using two principal components\n",
        "pca = PCA(n_components=2)\n",
        "p_comps = pca.fit_transform(features_scaled)\n",
        "\n",
        "# Extract the first and second component to use for the scatter plot\n",
        "p_comp1 = p_comps[:,0]\n",
        "p_comp2 = p_comps[:,1]\n",
        "\n",
        "# Plot the first two principal components in a scatter plot\n",
        "plt.scatter(p_comp1,p_comp2); \n"
      ],
      "execution_count": 23,
      "outputs": [
        {
          "output_type": "display_data",
          "data": {
            "image/png": "[encoded data removed]",
            "text/plain": [
              "<Figure size 432x288 with 1 Axes>"
            ]
          },
          "metadata": {
            "tags": [],
            "needs_background": "light"
          }
        }
      ]
    },
    {
      "cell_type": "markdown",
      "metadata": {
        "id": "Zlf7-2UP1SWW"
      },
      "source": [
        "## Find clusters of similar states in the data"
      ]
    },
    {
      "cell_type": "markdown",
      "metadata": {
        "dc": {
          "key": "52"
        },
        "tags": [
          "context"
        ],
        "id": "7gQ266QQ1SWW"
      },
      "source": [
        "<p>It was not entirely clear from the PCA scatter plot how many groups in which the states cluster. To assist with identifying a reasonable number of clusters, we can use KMeans clustering by creating a scree plot and finding the \"elbow\", which is an indication of when the addition of more clusters does not add much explanatory power.</p>"
      ]
    },
    {
      "cell_type": "markdown",
      "metadata": {
        "id": "fbxBPrA51SWX"
      },
      "source": [
        "### Task 8: Instructions"
      ]
    },
    {
      "cell_type": "markdown",
      "metadata": {
        "id": "H-APwMDX1SWY"
      },
      "source": [
        "Cluster the states using the KMeans algorithm and visualize the explanatory power for different numbers of clusters.\n",
        "\n",
        "* Import `KMeans`.\n",
        "* Initialize the `KMeans` object using the current number of clusters (k).\n",
        "* Fit the scaled features to the `KMeans` object.\n",
        "* Append the inertia for `km` to the list of inertias.\n",
        "* Plot the results in a line plot. This type of plot is also called a scree plot."
      ]
    },
    {
      "cell_type": "code",
      "metadata": {
        "ExecuteTime": {
          "end_time": "2020-02-20T16:15:17.935710Z",
          "start_time": "2020-02-20T16:15:17.552225Z"
        },
        "id": "0UiRfJlj1SWY",
        "outputId": "e3fa2d57-79be-4c6a-b383-8673dfc3a093",
        "colab": {
          "base_uri": "https://localhost:8080/",
          "height": 283
        }
      },
      "source": [
        "# Import KMeans from sklearn\n",
        "# ... YOUR CODE FOR TASK 8 ...\n",
        "from sklearn.cluster import KMeans\n",
        "\n",
        "# A loop will be used to plot the explanatory power for up to 10 KMeans clusters\n",
        "ks = range(1, 10)\n",
        "inertias = []\n",
        "for k in ks:\n",
        "    # Initialize the KMeans object using the current number of clusters (k)\n",
        "    km = KMeans(n_clusters=k, random_state=8)\n",
        "    # Fit the scaled features to the KMeans object\n",
        "    km.fit(features_scaled)\n",
        "    # Append the inertia for `km` to the list of inertias\n",
        "    inertias.append(km.inertia_)\n",
        "    \n",
        "# Plot the results in a line plot\n",
        "plt.plot(ks, inertias, marker='o')"
      ],
      "execution_count": 24,
      "outputs": [
        {
          "output_type": "execute_result",
          "data": {
            "text/plain": [
              "[<matplotlib.lines.Line2D at 0x7fc878828b70>]"
            ]
          },
          "metadata": {
            "tags": []
          },
          "execution_count": 24
        },
        {
          "output_type": "display_data",
          "data": {
            "image/png": "[encoded data removed]",
            "text/plain": [
              "<Figure size 432x288 with 1 Axes>"
            ]
          },
          "metadata": {
            "tags": [],
            "needs_background": "light"
          }
        }
      ]
    },
    {
      "cell_type": "markdown",
      "metadata": {
        "id": "PekZvJ9N1SWb"
      },
      "source": [
        "## KMeans to visualize clusters in the PCA scatter plot"
      ]
    },
    {
      "cell_type": "markdown",
      "metadata": {
        "dc": {
          "key": "59"
        },
        "tags": [
          "context"
        ],
        "id": "AbVq-PqU1SWb"
      },
      "source": [
        "<p>Since there wasn't a clear elbow in the scree plot, assigning the states to either two or three clusters is a reasonable choice, and we will resume our analysis using three clusters. Let's see how the PCA scatter plot looks if we color the states according to the cluster to which they are assigned.</p>"
      ]
    },
    {
      "cell_type": "markdown",
      "metadata": {
        "id": "2Leihno_1SWb"
      },
      "source": [
        "Task 9: Instructions"
      ]
    },
    {
      "cell_type": "markdown",
      "metadata": {
        "id": "NJOY1lES1SWc"
      },
      "source": [
        "Highlight the clusters of the K-means fit with three clusters in the PCA scatter plot.\n",
        "\n",
        "* Create a KMeans object with k (your choice) clusters, setting random_state to 8 as in the previous task.\n",
        "* Fit the data to the `km` object.\n",
        "* Create a scatter plot of the first two principal components and color it according to the KMeans cluster assignment."
      ]
    },
    {
      "cell_type": "code",
      "metadata": {
        "ExecuteTime": {
          "end_time": "2020-02-20T16:15:18.092290Z",
          "start_time": "2020-02-20T16:15:17.938702Z"
        },
        "id": "NLvWe5Mv1SWc",
        "outputId": "ae20395e-89bb-4771-8930-33d29300d85c",
        "colab": {
          "base_uri": "https://localhost:8080/",
          "height": 283
        }
      },
      "source": [
        "# Create a KMeans object with 3 clusters, use random_state=8 \n",
        "km = KMeans(n_clusters=3, random_state=8)\n",
        "\n",
        "# Fit the data to the `km` object\n",
        "#  ... YOUR CODE FOR TASK 9 ...\n",
        "km.fit_transform(features_scaled)\n",
        "\n",
        "# Create a scatter plot of the first two principal components\n",
        "# and color it according to the KMeans cluster assignment \n",
        "# ... YOUR CODE FOR TASK 9 ...\n",
        "plt.scatter(p_comps[:,0], p_comps[:,1], c=km.labels_)"
      ],
      "execution_count": 25,
      "outputs": [
        {
          "output_type": "execute_result",
          "data": {
            "text/plain": [
              "<matplotlib.collections.PathCollection at 0x7fc878810908>"
            ]
          },
          "metadata": {
            "tags": []
          },
          "execution_count": 25
        },
        {
          "output_type": "display_data",
          "data": {
            "image/png": "[encoded data removed]",
            "text/plain": [
              "<Figure size 432x288 with 1 Axes>"
            ]
          },
          "metadata": {
            "tags": [],
            "needs_background": "light"
          }
        }
      ]
    },
    {
      "cell_type": "markdown",
      "metadata": {
        "id": "g-l11fdg1SWf"
      },
      "source": [
        "## Visualize the feature differences between the clusters"
      ]
    },
    {
      "cell_type": "markdown",
      "metadata": {
        "dc": {
          "key": "66"
        },
        "tags": [
          "context"
        ],
        "id": "4fe9vzof1SWf"
      },
      "source": [
        "<p>Thus far, we have used both our visual interpretation of the data and the KMeans clustering algorithm to reveal patterns in the data, but what do these patterns mean?</p>\n",
        "<p>Remember that the information we have used to cluster the states into three distinct groups are the percentage of drivers speeding, under alcohol influence and that has not previously been involved in an accident. We used these clusters to visualize how the states group together when considering the first two principal components. This is good for us to understand structure in the data, but not always easy to understand, especially not if the findings are to be communicated to a non-specialist audience.</p>\n",
        "<p>A reasonable next step in our analysis is to explore how the three clusters are different in terms of the three features that we used for clustering. Instead of using the scaled features, we return to using the unscaled features to help us interpret the differences.</p>"
      ]
    },
    {
      "cell_type": "markdown",
      "metadata": {
        "id": "D_ob6tnO1SWg"
      },
      "source": [
        "### Task 10: Instructions"
      ]
    },
    {
      "cell_type": "markdown",
      "metadata": {
        "id": "pYGBPP271SWh"
      },
      "source": [
        "Visualize the distribution of speeding, alcohol influence and percentage of first-time accidents in a direct comparison of the clusters.\n",
        "\n",
        "* Create a new column with the labels from the KMeans clustering, using `km.labels_`.\n",
        "* Reshape the DataFrame to the long format, using `pd.melt()`. Use the features as the value variables and give them the name `'measurement'` in the new DataFrame. Name the value column `'percent'`.\n",
        "* Create a violin plot splitting and coloring the results according to the km-clusters using the `hue` parameter. Plot the measurements along the y-axis and the percent values along the x-axis.\n",
        "\n",
        "Helpful links:\n",
        "\n",
        "* [Pandas.melt()](https://www.geeksforgeeks.org/python-pandas-melt/)\n",
        "* [seaborn violin plots](https://seaborn.pydata.org/generated/seaborn.violinplot.html)"
      ]
    },
    {
      "cell_type": "code",
      "metadata": {
        "ExecuteTime": {
          "end_time": "2020-02-20T16:15:18.312700Z",
          "start_time": "2020-02-20T16:15:18.094284Z"
        },
        "id": "BSkPAC3P1SWh",
        "outputId": "b4920036-3838-4997-f3fe-62e4b29e4e55",
        "colab": {
          "base_uri": "https://localhost:8080/",
          "height": 279
        }
      },
      "source": [
        "# Create a new column with the labels from the KMeans clustering\n",
        "car_acc['cluster'] =km.labels_\n",
        "\n",
        "# Reshape the DataFrame to the long format\n",
        "melt_car =pd.melt(car_acc, id_vars=\"cluster\", var_name=\"measurement\", value_name=\"percent\", value_vars=features)\n",
        "\n",
        "# Create a violin plot splitting and coloring the results according to the km-clusters\n",
        "sns.violinplot(x=melt_car[\"percent\"], y=melt_car[\"measurement\"], hue=melt_car[\"cluster\"]); \n"
      ],
      "execution_count": 26,
      "outputs": [
        {
          "output_type": "display_data",
          "data": {
            "image/png": "[encoded data removed]",
            "text/plain": [
              "<Figure size 432x288 with 1 Axes>"
            ]
          },
          "metadata": {
            "tags": [],
            "needs_background": "light"
          }
        }
      ]
    },
    {
      "cell_type": "markdown",
      "metadata": {
        "id": "3Ko9yTw71SWl"
      },
      "source": [
        "## Compute the number of accidents within each cluster"
      ]
    },
    {
      "cell_type": "markdown",
      "metadata": {
        "dc": {
          "key": "73"
        },
        "tags": [
          "context"
        ],
        "id": "X1dj8mBx1SWm"
      },
      "source": [
        "<p>Now it is clear that different groups of states may require different interventions. Since resources and time are limited, it is useful to start off with an intervention in one of the three groups first. Which group would this be? To determine this, we will include data on how many miles are driven in each state, because this will help us to compute the total number of fatal accidents in each state. Data on miles driven is available in another tab-delimited text file. We will assign this new information to a column in the DataFrame and create a violin plot for how many total fatal traffic accidents there are within each state cluster.</p>"
      ]
    },
    {
      "cell_type": "markdown",
      "metadata": {
        "ExecuteTime": {
          "end_time": "2020-02-20T16:04:10.120619Z",
          "start_time": "2020-02-20T16:04:10.108649Z"
        },
        "id": "Cw1Ut6KP1SWm"
      },
      "source": [
        "### Task 11: Instructions"
      ]
    },
    {
      "cell_type": "markdown",
      "metadata": {
        "id": "DqPYZrmE1SWn"
      },
      "source": [
        "Add data on the number of miles driven per state to compute total number of fatal accidents and total accidents for each cluster.\n",
        "\n",
        "* Merge the `car_acc` DataFrame with the `miles_driven` DataFrame. Merge on the common column state.\n",
        "* Create a new column for the number of drivers involved in fatal accidents. Use the columns `'drvr_fatl_col_bmiles'` and `'million_miles_annually'`, note that these are in billions and million respectively.\n",
        "* Calculate the number of states in each cluster, their average and total number of drivers involved in fatal accidents.\n",
        "* Using `sns.barplot`, create a bar plot of the total number of fatal accidents per cluster, setting the `estimator` parameter to `sum`.\n",
        "\n",
        "Helpful links:\n",
        "\n",
        "* [Pandas merging 101](https://stackoverflow.com/questions/53645882/pandas-merging-101)\n",
        "* [Summarising, Aggregating, and Grouping data in Python Pandas](https://www.shanelynn.ie/summarising-aggregation-and-grouping-data-in-python-pandas/)"
      ]
    },
    {
      "cell_type": "code",
      "metadata": {
        "ExecuteTime": {
          "end_time": "2020-02-20T16:15:18.450333Z",
          "start_time": "2020-02-20T16:15:18.314695Z"
        },
        "id": "a9dfYYgI1SWn",
        "outputId": "53c006cf-b6f9-4542-f53c-f1ef31dc93d6",
        "colab": {
          "base_uri": "https://localhost:8080/",
          "height": 430
        }
      },
      "source": [
        "# Read in the new dataset\n",
        "miles_driven = pd.read_csv('data/miles-driven.csv', sep='|')\n",
        "\n",
        "# Merge the `car_acc` DataFrame with the `miles_driven` DataFrame\n",
        "car_acc_miles = pd.merge(car_acc, miles_driven, on=\"state\")\n",
        "\n",
        "# Create a new column for the number of drivers involved in fatal accidents\n",
        "car_acc_miles['num_drvr_fatl_col'] =  car_acc_miles['drvr_fatl_col_bmiles']*car_acc_miles[\"million_miles_annually\"]/1000\n",
        "\n",
        "# Create a barplot of the total number of accidents per cluster\n",
        "sns.barplot(x=car_acc_miles[\"cluster\"], y=car_acc_miles[\"num_drvr_fatl_col\"], data=car_acc_miles, estimator=sum, ci=None)\n",
        "\n",
        "# Calculate the number of states in each cluster and their 'num_drvr_fatl_col' mean and sum.\n",
        "count_mean_sum = car_acc_miles.groupby(\"cluster\")[\"num_drvr_fatl_col\"].agg([\"count\", \"mean\", \"sum\"])\n",
        "count_mean_sum"
      ],
      "execution_count": 27,
      "outputs": [
        {
          "output_type": "execute_result",
          "data": {
            "text/html": [
              "<div>\n",
              "<style scoped>\n",
              "    .dataframe tbody tr th:only-of-type {\n",
              "        vertical-align: middle;\n",
              "    }\n",
              "\n",
              "    .dataframe tbody tr th {\n",
              "        vertical-align: top;\n",
              "    }\n",
              "\n",
              "    .dataframe thead th {\n",
              "        text-align: right;\n",
              "    }\n",
              "</style>\n",
              "<table border=\"1\" class=\"dataframe\">\n",
              "  <thead>\n",
              "    <tr style=\"text-align: right;\">\n",
              "      <th></th>\n",
              "      <th>count</th>\n",
              "      <th>mean</th>\n",
              "      <th>sum</th>\n",
              "    </tr>\n",
              "    <tr>\n",
              "      <th>cluster</th>\n",
              "      <th></th>\n",
              "      <th></th>\n",
              "      <th></th>\n",
              "    </tr>\n",
              "  </thead>\n",
              "  <tbody>\n",
              "    <tr>\n",
              "      <th>0</th>\n",
              "      <td>22</td>\n",
              "      <td>898.378595</td>\n",
              "      <td>19764.3291</td>\n",
              "    </tr>\n",
              "    <tr>\n",
              "      <th>1</th>\n",
              "      <td>18</td>\n",
              "      <td>911.406439</td>\n",
              "      <td>16405.3159</td>\n",
              "    </tr>\n",
              "    <tr>\n",
              "      <th>2</th>\n",
              "      <td>11</td>\n",
              "      <td>860.505945</td>\n",
              "      <td>9465.5654</td>\n",
              "    </tr>\n",
              "  </tbody>\n",
              "</table>\n",
              "</div>"
            ],
            "text/plain": [
              "         count        mean         sum\n",
              "cluster                               \n",
              "0           22  898.378595  19764.3291\n",
              "1           18  911.406439  16405.3159\n",
              "2           11  860.505945   9465.5654"
            ]
          },
          "metadata": {
            "tags": []
          },
          "execution_count": 27
        },
        {
          "output_type": "display_data",
          "data": {
            "image/png": "[encoded data removed]",
            "text/plain": [
              "<Figure size 432x288 with 1 Axes>"
            ]
          },
          "metadata": {
            "tags": [],
            "needs_background": "light"
          }
        }
      ]
    },
    {
      "cell_type": "markdown",
      "metadata": {
        "id": "Zhv2IzFf1SWr"
      },
      "source": [
        "## Make a decision when there is no clear right choice"
      ]
    },
    {
      "cell_type": "markdown",
      "metadata": {
        "dc": {
          "key": "80"
        },
        "tags": [
          "context"
        ],
        "id": "yYcT7f-w1SWs"
      },
      "source": [
        "<p>As we can see, there is no obvious correct choice regarding which cluster is the most important to focus on. Yet, we can still argue for a certain cluster and motivate this using our findings above. Which cluster do you think should be a focus for policy intervention and further investigation?</p>"
      ]
    },
    {
      "cell_type": "markdown",
      "metadata": {
        "id": "q5RBXl6T1SWs"
      },
      "source": [
        "Decide which cluster to focus your resources on.\n",
        "\n",
        "* Which cluster would you choose: 1, 2, or 3? Assign one of these integers to `cluster_num`."
      ]
    },
    {
      "cell_type": "code",
      "metadata": {
        "ExecuteTime": {
          "end_time": "2020-02-20T16:15:18.465294Z",
          "start_time": "2020-02-20T16:15:18.453325Z"
        },
        "id": "jHl9P5VX1SWs"
      },
      "source": [
        "# Which cluster would you choose?\n",
        "cluster_num = 2"
      ],
      "execution_count": 28,
      "outputs": []
    }
  ]
}